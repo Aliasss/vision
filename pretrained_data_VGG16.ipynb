{
  "nbformat": 4,
  "nbformat_minor": 0,
  "metadata": {
    "colab": {
      "name": "pretrained data_VGG16",
      "version": "0.3.2",
      "provenance": [],
      "collapsed_sections": [],
      "include_colab_link": true
    },
    "kernelspec": {
      "name": "python3",
      "display_name": "Python 3"
    },
    "accelerator": "GPU"
  },
  "cells": [
    {
      "cell_type": "markdown",
      "metadata": {
        "id": "view-in-github",
        "colab_type": "text"
      },
      "source": [
        "<a href=\"https://colab.research.google.com/github/Aliasss/vision/blob/master/pretrained_data_VGG16.ipynb\" target=\"_parent\"><img src=\"https://colab.research.google.com/assets/colab-badge.svg\" alt=\"Open In Colab\"/></a>"
      ]
    },
    {
      "cell_type": "code",
      "metadata": {
        "id": "Znr29S-lg63q",
        "colab_type": "code",
        "colab": {
          "base_uri": "https://localhost:8080/",
          "height": 127
        },
        "outputId": "11506b4f-69b6-42d2-d780-a6fdd68d9a15"
      },
      "source": [
        "# Google 드라이브를 마운트하려면 이 셀을 실행하세요.\n",
        "from google.colab import drive\n",
        "drive.mount('/content/drive')"
      ],
      "execution_count": 1,
      "outputs": [
        {
          "output_type": "stream",
          "text": [
            "Go to this URL in a browser: https://accounts.google.com/o/oauth2/auth?client_id=947318989803-6bn6qk8qdgf4n4g3pfee6491hc0brc4i.apps.googleusercontent.com&redirect_uri=urn%3Aietf%3Awg%3Aoauth%3A2.0%3Aoob&scope=email%20https%3A%2F%2Fwww.googleapis.com%2Fauth%2Fdocs.test%20https%3A%2F%2Fwww.googleapis.com%2Fauth%2Fdrive%20https%3A%2F%2Fwww.googleapis.com%2Fauth%2Fdrive.photos.readonly%20https%3A%2F%2Fwww.googleapis.com%2Fauth%2Fpeopleapi.readonly&response_type=code\n",
            "\n",
            "Enter your authorization code:\n",
            "··········\n",
            "Mounted at /content/drive\n"
          ],
          "name": "stdout"
        }
      ]
    },
    {
      "cell_type": "code",
      "metadata": {
        "id": "msuYVHZvhNJu",
        "colab_type": "code",
        "colab": {}
      },
      "source": [
        "train_dir = './drive/My Drive/test_colab/dog_cat_small/train'\n",
        "validation_dir = './drive/My Drive/test_colab/dog_cat_small/validation'\n",
        "test_dir = './drive/My Drive/test_colab/dog_cat_small/test'"
      ],
      "execution_count": 0,
      "outputs": []
    },
    {
      "cell_type": "markdown",
      "metadata": {
        "id": "D2imBu5AUYh5",
        "colab_type": "text"
      },
      "source": [
        "# Using ImageNet_VGG16 model"
      ]
    },
    {
      "cell_type": "code",
      "metadata": {
        "id": "tJeLpVJEDcEs",
        "colab_type": "code",
        "colab": {}
      },
      "source": [
        "from keras.applications import VGG16"
      ],
      "execution_count": 0,
      "outputs": []
    },
    {
      "cell_type": "code",
      "metadata": {
        "id": "kI0aEv3BDcCA",
        "colab_type": "code",
        "colab": {}
      },
      "source": [
        "vgg = VGG16(weights='imagenet', include_top=False, input_shape=(150, 150, 3))"
      ],
      "execution_count": 0,
      "outputs": []
    },
    {
      "cell_type": "code",
      "metadata": {
        "id": "AaqWAO6fDb-Q",
        "colab_type": "code",
        "outputId": "3ed68ee8-1b05-4a6a-d5d5-a30bdb46d557",
        "colab": {
          "base_uri": "https://localhost:8080/",
          "height": 827
        }
      },
      "source": [
        "vgg.summary()"
      ],
      "execution_count": 66,
      "outputs": [
        {
          "output_type": "stream",
          "text": [
            "_________________________________________________________________\n",
            "Layer (type)                 Output Shape              Param #   \n",
            "=================================================================\n",
            "input_6 (InputLayer)         (None, 150, 150, 3)       0         \n",
            "_________________________________________________________________\n",
            "block1_conv1 (Conv2D)        (None, 150, 150, 64)      1792      \n",
            "_________________________________________________________________\n",
            "block1_conv2 (Conv2D)        (None, 150, 150, 64)      36928     \n",
            "_________________________________________________________________\n",
            "block1_pool (MaxPooling2D)   (None, 75, 75, 64)        0         \n",
            "_________________________________________________________________\n",
            "block2_conv1 (Conv2D)        (None, 75, 75, 128)       73856     \n",
            "_________________________________________________________________\n",
            "block2_conv2 (Conv2D)        (None, 75, 75, 128)       147584    \n",
            "_________________________________________________________________\n",
            "block2_pool (MaxPooling2D)   (None, 37, 37, 128)       0         \n",
            "_________________________________________________________________\n",
            "block3_conv1 (Conv2D)        (None, 37, 37, 256)       295168    \n",
            "_________________________________________________________________\n",
            "block3_conv2 (Conv2D)        (None, 37, 37, 256)       590080    \n",
            "_________________________________________________________________\n",
            "block3_conv3 (Conv2D)        (None, 37, 37, 256)       590080    \n",
            "_________________________________________________________________\n",
            "block3_pool (MaxPooling2D)   (None, 18, 18, 256)       0         \n",
            "_________________________________________________________________\n",
            "block4_conv1 (Conv2D)        (None, 18, 18, 512)       1180160   \n",
            "_________________________________________________________________\n",
            "block4_conv2 (Conv2D)        (None, 18, 18, 512)       2359808   \n",
            "_________________________________________________________________\n",
            "block4_conv3 (Conv2D)        (None, 18, 18, 512)       2359808   \n",
            "_________________________________________________________________\n",
            "block4_pool (MaxPooling2D)   (None, 9, 9, 512)         0         \n",
            "_________________________________________________________________\n",
            "block5_conv1 (Conv2D)        (None, 9, 9, 512)         2359808   \n",
            "_________________________________________________________________\n",
            "block5_conv2 (Conv2D)        (None, 9, 9, 512)         2359808   \n",
            "_________________________________________________________________\n",
            "block5_conv3 (Conv2D)        (None, 9, 9, 512)         2359808   \n",
            "_________________________________________________________________\n",
            "block5_pool (MaxPooling2D)   (None, 4, 4, 512)         0         \n",
            "=================================================================\n",
            "Total params: 14,714,688\n",
            "Trainable params: 14,714,688\n",
            "Non-trainable params: 0\n",
            "_________________________________________________________________\n"
          ],
          "name": "stdout"
        }
      ]
    },
    {
      "cell_type": "markdown",
      "metadata": {
        "id": "BxE2KliLaUk8",
        "colab_type": "text"
      },
      "source": [
        "마지막 층 block5_pool 위에 완전 연결층을 놓을 것"
      ]
    },
    {
      "cell_type": "markdown",
      "metadata": {
        "id": "ioOiQHTfdKEw",
        "colab_type": "text"
      },
      "source": [
        "## 데이터 증식을 사용한 특성 추출"
      ]
    },
    {
      "cell_type": "code",
      "metadata": {
        "id": "-9t13Z-QUcrr",
        "colab_type": "code",
        "colab": {}
      },
      "source": [
        "from keras import models, layers"
      ],
      "execution_count": 0,
      "outputs": []
    },
    {
      "cell_type": "code",
      "metadata": {
        "id": "ZPpCDMYeUclN",
        "colab_type": "code",
        "outputId": "7ba2e27c-4b98-4838-c9c6-0d878d6e53fb",
        "colab": {
          "base_uri": "https://localhost:8080/",
          "height": 287
        }
      },
      "source": [
        "# 완전 연결망 추가\n",
        "model = models.Sequential()\n",
        "model.add(vgg)\n",
        "model.add(layers.Flatten())\n",
        "model.add(layers.Dense(250, activation='relu'))\n",
        "model.add(layers.Dense(1, activation='sigmoid'))\n",
        "model.summary()"
      ],
      "execution_count": 68,
      "outputs": [
        {
          "output_type": "stream",
          "text": [
            "_________________________________________________________________\n",
            "Layer (type)                 Output Shape              Param #   \n",
            "=================================================================\n",
            "vgg16 (Model)                (None, 4, 4, 512)         14714688  \n",
            "_________________________________________________________________\n",
            "flatten_6 (Flatten)          (None, 8192)              0         \n",
            "_________________________________________________________________\n",
            "dense_9 (Dense)              (None, 250)               2048250   \n",
            "_________________________________________________________________\n",
            "dense_10 (Dense)             (None, 1)                 251       \n",
            "=================================================================\n",
            "Total params: 16,763,189\n",
            "Trainable params: 16,763,189\n",
            "Non-trainable params: 0\n",
            "_________________________________________________________________\n"
          ],
          "name": "stdout"
        }
      ]
    },
    {
      "cell_type": "markdown",
      "metadata": {
        "id": "7iADm-aWkaW9",
        "colab_type": "text"
      },
      "source": [
        "**동결**"
      ]
    },
    {
      "cell_type": "code",
      "metadata": {
        "id": "dZiCLZftUcYw",
        "colab_type": "code",
        "outputId": "164deeda-373c-43c4-c3f7-f0711d06a870",
        "colab": {
          "base_uri": "https://localhost:8080/",
          "height": 35
        }
      },
      "source": [
        "vgg.trainable = False\n",
        "print('동결 후 훈련되는 가중치 수 :', len(model.trainable_weights))"
      ],
      "execution_count": 69,
      "outputs": [
        {
          "output_type": "stream",
          "text": [
            "동결 후 훈련되는 가중치 수 : 4\n"
          ],
          "name": "stdout"
        }
      ]
    },
    {
      "cell_type": "code",
      "metadata": {
        "id": "oaEwfJ7bUcMk",
        "colab_type": "code",
        "colab": {}
      },
      "source": [
        "from keras.preprocessing.image import ImageDataGenerator\n",
        "from keras import optimizers"
      ],
      "execution_count": 0,
      "outputs": []
    },
    {
      "cell_type": "code",
      "metadata": {
        "id": "yAf70NW8UcF5",
        "colab_type": "code",
        "outputId": "1a834357-ca3b-4ca5-a55a-b9057de45b42",
        "colab": {
          "base_uri": "https://localhost:8080/",
          "height": 53
        }
      },
      "source": [
        "train_augmentation = ImageDataGenerator(rescale=1./255, rotation_range=40, height_shift_range=0.2, width_shift_range=0.2, zoom_range=0.2, shear_range=0.2, \n",
        "                               horizontal_flip=True, fill_mode='nearest')\n",
        "\n",
        "test_augmentation = ImageDataGenerator(rescale=1./255)\n",
        "\n",
        "train_generator = train_augmentation.flow_from_directory(train_dir, target_size=(150, 150), batch_size=20, class_mode='binary')\n",
        "validation_generator = test_augmentation.flow_from_directory(validation_dir, target_size=(150, 150), batch_size=20, class_mode='binary')\n",
        "\n",
        "model.compile(loss='binary_crossentropy', optimizer=optimizers.RMSprop(lr=2e-5), metrics=['acc'])"
      ],
      "execution_count": 71,
      "outputs": [
        {
          "output_type": "stream",
          "text": [
            "Found 2000 images belonging to 2 classes.\n",
            "Found 1000 images belonging to 2 classes.\n"
          ],
          "name": "stdout"
        }
      ]
    },
    {
      "cell_type": "code",
      "metadata": {
        "id": "e2zEclUMUcAK",
        "colab_type": "code",
        "outputId": "ea2cbe6d-c189-4504-b019-31e7764c0784",
        "colab": {
          "base_uri": "https://localhost:8080/",
          "height": 1000
        }
      },
      "source": [
        "history = model.fit_generator(train_generator, steps_per_epoch=100, epochs=30, validation_data=validation_generator, validation_steps=50, verbose=1)"
      ],
      "execution_count": 72,
      "outputs": [
        {
          "output_type": "stream",
          "text": [
            "Epoch 1/30\n",
            "100/100 [==============================] - 22s 223ms/step - loss: 0.6090 - acc: 0.6645 - val_loss: 0.4628 - val_acc: 0.8160\n",
            "Epoch 2/30\n",
            "100/100 [==============================] - 20s 200ms/step - loss: 0.4949 - acc: 0.7805 - val_loss: 0.3757 - val_acc: 0.8620\n",
            "Epoch 3/30\n",
            "100/100 [==============================] - 20s 200ms/step - loss: 0.4427 - acc: 0.8080 - val_loss: 0.3437 - val_acc: 0.8730\n",
            "Epoch 4/30\n",
            "100/100 [==============================] - 20s 201ms/step - loss: 0.4214 - acc: 0.8120 - val_loss: 0.3277 - val_acc: 0.8560\n",
            "Epoch 5/30\n",
            "100/100 [==============================] - 20s 201ms/step - loss: 0.3894 - acc: 0.8290 - val_loss: 0.3027 - val_acc: 0.8720\n",
            "Epoch 6/30\n",
            "100/100 [==============================] - 20s 199ms/step - loss: 0.3775 - acc: 0.8295 - val_loss: 0.2876 - val_acc: 0.8860\n",
            "Epoch 7/30\n",
            "100/100 [==============================] - 20s 200ms/step - loss: 0.3626 - acc: 0.8370 - val_loss: 0.2886 - val_acc: 0.8820\n",
            "Epoch 8/30\n",
            "100/100 [==============================] - 20s 200ms/step - loss: 0.3550 - acc: 0.8465 - val_loss: 0.2701 - val_acc: 0.8940\n",
            "Epoch 9/30\n",
            "100/100 [==============================] - 20s 200ms/step - loss: 0.3400 - acc: 0.8540 - val_loss: 0.2675 - val_acc: 0.8920\n",
            "Epoch 10/30\n",
            "100/100 [==============================] - 20s 202ms/step - loss: 0.3433 - acc: 0.8490 - val_loss: 0.2709 - val_acc: 0.8910\n",
            "Epoch 11/30\n",
            "100/100 [==============================] - 20s 202ms/step - loss: 0.3316 - acc: 0.8555 - val_loss: 0.2561 - val_acc: 0.8980\n",
            "Epoch 12/30\n",
            "100/100 [==============================] - 20s 202ms/step - loss: 0.3218 - acc: 0.8620 - val_loss: 0.2615 - val_acc: 0.8890\n",
            "Epoch 13/30\n",
            "100/100 [==============================] - 20s 202ms/step - loss: 0.3265 - acc: 0.8505 - val_loss: 0.2508 - val_acc: 0.9000\n",
            "Epoch 14/30\n",
            "100/100 [==============================] - 20s 202ms/step - loss: 0.3109 - acc: 0.8650 - val_loss: 0.2535 - val_acc: 0.8990\n",
            "Epoch 15/30\n",
            "100/100 [==============================] - 20s 201ms/step - loss: 0.3123 - acc: 0.8695 - val_loss: 0.2480 - val_acc: 0.8980\n",
            "Epoch 16/30\n",
            "100/100 [==============================] - 20s 203ms/step - loss: 0.3082 - acc: 0.8635 - val_loss: 0.2478 - val_acc: 0.9020\n",
            "Epoch 17/30\n",
            "100/100 [==============================] - 20s 204ms/step - loss: 0.3048 - acc: 0.8675 - val_loss: 0.2472 - val_acc: 0.8980\n",
            "Epoch 18/30\n",
            "100/100 [==============================] - 20s 200ms/step - loss: 0.3009 - acc: 0.8650 - val_loss: 0.2577 - val_acc: 0.8910\n",
            "Epoch 19/30\n",
            "100/100 [==============================] - 20s 201ms/step - loss: 0.2935 - acc: 0.8720 - val_loss: 0.2442 - val_acc: 0.8990\n",
            "Epoch 20/30\n",
            "100/100 [==============================] - 20s 204ms/step - loss: 0.3136 - acc: 0.8705 - val_loss: 0.2429 - val_acc: 0.9020\n",
            "Epoch 21/30\n",
            "100/100 [==============================] - 20s 201ms/step - loss: 0.2871 - acc: 0.8835 - val_loss: 0.2413 - val_acc: 0.9020\n",
            "Epoch 22/30\n",
            "100/100 [==============================] - 20s 200ms/step - loss: 0.3026 - acc: 0.8700 - val_loss: 0.2415 - val_acc: 0.9020\n",
            "Epoch 23/30\n",
            "100/100 [==============================] - 20s 201ms/step - loss: 0.2953 - acc: 0.8785 - val_loss: 0.2645 - val_acc: 0.8860\n",
            "Epoch 24/30\n",
            "100/100 [==============================] - 20s 202ms/step - loss: 0.2980 - acc: 0.8650 - val_loss: 0.2433 - val_acc: 0.9020\n",
            "Epoch 25/30\n",
            "100/100 [==============================] - 20s 201ms/step - loss: 0.2919 - acc: 0.8785 - val_loss: 0.2455 - val_acc: 0.9020\n",
            "Epoch 26/30\n",
            "100/100 [==============================] - 20s 201ms/step - loss: 0.2927 - acc: 0.8695 - val_loss: 0.2487 - val_acc: 0.9000\n",
            "Epoch 27/30\n",
            "100/100 [==============================] - 20s 201ms/step - loss: 0.2901 - acc: 0.8780 - val_loss: 0.2521 - val_acc: 0.8940\n",
            "Epoch 28/30\n",
            "100/100 [==============================] - 20s 201ms/step - loss: 0.2970 - acc: 0.8665 - val_loss: 0.2424 - val_acc: 0.9010\n",
            "Epoch 29/30\n",
            "100/100 [==============================] - 20s 200ms/step - loss: 0.2833 - acc: 0.8745 - val_loss: 0.2411 - val_acc: 0.9060\n",
            "Epoch 30/30\n",
            "100/100 [==============================] - 20s 200ms/step - loss: 0.2793 - acc: 0.8765 - val_loss: 0.2405 - val_acc: 0.9010\n"
          ],
          "name": "stdout"
        }
      ]
    },
    {
      "cell_type": "code",
      "metadata": {
        "id": "o01-NWCfUb6i",
        "colab_type": "code",
        "colab": {
          "base_uri": "https://localhost:8080/",
          "height": 721
        },
        "outputId": "a0a1ac68-d214-4f20-ae1d-287c6256e28a"
      },
      "source": [
        "import matplotlib.pyplot as plt\n",
        "\n",
        "acc = history.history['acc']\n",
        "val_acc = history.history['val_acc']\n",
        "loss = history.history['loss']\n",
        "val_loss = history.history['val_loss']\n",
        "\n",
        "epochs = range(1, len(acc)+1)\n",
        "plt.figure(figsize=(10,12))\n",
        "plt.subplot(211)\n",
        "plt.plot(epochs, acc, 'bo', label='Training acc')\n",
        "plt.plot(epochs, val_acc, 'r--', label='Validation acc')\n",
        "plt.title('Training & Validation acc')\n",
        "plt.legend(loc='best')\n",
        "\n",
        "plt.figure(figsize=(10,12))\n",
        "plt.subplot(212)\n",
        "plt.plot(epochs, loss, 'bo', label='Training loss')\n",
        "plt.plot(epochs, val_loss, 'r--', label='Validation loss')\n",
        "plt.title('Training & Validation loss')\n",
        "plt.legend(loc='best')"
      ],
      "execution_count": 76,
      "outputs": [
        {
          "output_type": "execute_result",
          "data": {
            "text/plain": [
              "<matplotlib.legend.Legend at 0x7f4a61dcd550>"
            ]
          },
          "metadata": {
            "tags": []
          },
          "execution_count": 76
        },
        {
          "output_type": "display_data",
          "data": {
            "image/png": "[encoded data removed]",
            "text/plain": [
              "<Figure size 720x864 with 1 Axes>"
            ]
          },
          "metadata": {
            "tags": []
          }
        },
        {
          "output_type": "display_data",
          "data": {
            "image/png": "[encoded data removed]",
            "text/plain": [
              "<Figure size 720x864 with 1 Axes>"
            ]
          },
          "metadata": {
            "tags": []
          }
        }
      ]
    },
    {
      "cell_type": "code",
      "metadata": {
        "id": "mobGrwpyUbvg",
        "colab_type": "code",
        "colab": {}
      },
      "source": [
        ""
      ],
      "execution_count": 0,
      "outputs": []
    },
    {
      "cell_type": "code",
      "metadata": {
        "id": "Fn44gYGRUbqy",
        "colab_type": "code",
        "colab": {}
      },
      "source": [
        ""
      ],
      "execution_count": 0,
      "outputs": []
    },
    {
      "cell_type": "code",
      "metadata": {
        "id": "oNHnquN6Ubl9",
        "colab_type": "code",
        "colab": {}
      },
      "source": [
        ""
      ],
      "execution_count": 0,
      "outputs": []
    },
    {
      "cell_type": "code",
      "metadata": {
        "id": "qNxVrwplUbgt",
        "colab_type": "code",
        "colab": {}
      },
      "source": [
        ""
      ],
      "execution_count": 0,
      "outputs": []
    }
  ]
}